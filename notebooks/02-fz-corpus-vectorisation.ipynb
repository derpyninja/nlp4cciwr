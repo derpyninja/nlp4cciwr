{
 "cells": [
  {
   "cell_type": "markdown",
   "metadata": {
    "pycharm": {
     "name": "#%% md\n"
    }
   },
   "source": [
    "# Vectorise Corpus\n",
    "Felix Zaussinger | 08.01.2021\n",
    "\n",
    "## Core Analysis Goal(s)\n",
    "1. Explore textacy vectorisation functions\n",
    "2. Transform corpus to sparse and dense matrix representations\n",
    "\n",
    "## Key Insight(s)\n",
    "1.\n",
    "2.\n",
    "3.\n",
    "\n",
    "## Sources\n",
    "- https://textacy.readthedocs.io/en/stable/api_reference/vsm_and_tm.html#textacy.vsm.vectorizers.Vectorizer"
   ]
  },
  {
   "cell_type": "code",
   "execution_count": 118,
   "metadata": {},
   "outputs": [
    {
     "name": "stdout",
     "output_type": "stream",
     "text": [
      "The autoreload extension is already loaded. To reload it, use:\n",
      "  %reload_ext autoreload\n"
     ]
    }
   ],
   "source": [
    "# magic commands\n",
    "%load_ext autoreload\n",
    "%autoreload 2\n",
    "\n",
    "%matplotlib inline\n",
    "%config InlineBackend.figure_format = 'retina'\n",
    "\n",
    "# imports\n",
    "import os\n",
    "import re\n",
    "import sys\n",
    "import glob\n",
    "import textacy\n",
    "import logging\n",
    "import numpy as np\n",
    "import pandas as pd\n",
    "from tqdm import tqdm\n",
    "import en_core_web_lg\n",
    "import seaborn as sns\n",
    "from pathlib import Path\n",
    "import matplotlib.pyplot as plt\n",
    "from textacy import preprocessing\n",
    "from dotenv import find_dotenv, load_dotenv\n",
    "\n",
    "# module settings\n",
    "sns.set_context(\"poster\")\n",
    "sns.set(rc={'figure.figsize': (16, 9.)})\n",
    "sns.set_style(\"ticks\")\n",
    "\n",
    "# logging\n",
    "logging.basicConfig(level=logging.INFO, stream=sys.stdout)"
   ]
  },
  {
   "cell_type": "markdown",
   "metadata": {
    "pycharm": {
     "name": "#%% md\n"
    }
   },
   "source": [
    "#### Define directory structure"
   ]
  },
  {
   "cell_type": "code",
   "execution_count": 2,
   "metadata": {
    "collapsed": false,
    "jupyter": {
     "outputs_hidden": false
    },
    "pycharm": {
     "name": "#%%\n"
    }
   },
   "outputs": [],
   "source": [
    "# project directory\n",
    "abspath = os.path.abspath('')\n",
    "project_dir = str(Path(abspath).parents[0])\n",
    "\n",
    "# sub-directories\n",
    "data_raw = os.path.join(project_dir, \"data\", \"raw\")\n",
    "data_interim = os.path.join(project_dir, \"data\", \"interim\")\n",
    "data_processed = os.path.join(project_dir, \"data\", \"processed\")\n",
    "figure_dir = os.path.join(project_dir, \"reports\", \"figures\")"
   ]
  },
  {
   "cell_type": "markdown",
   "metadata": {
    "pycharm": {
     "name": "#%% md\n"
    }
   },
   "source": [
    "#### Load and configure spacy nlp model"
   ]
  },
  {
   "cell_type": "code",
   "execution_count": 3,
   "metadata": {
    "collapsed": false,
    "jupyter": {
     "outputs_hidden": false
    },
    "pycharm": {
     "name": "#%%\n"
    }
   },
   "outputs": [
    {
     "name": "stdout",
     "output_type": "stream",
     "text": [
      "CPU times: user 4.17 s, sys: 698 ms, total: 4.86 s\n",
      "Wall time: 4.87 s\n"
     ]
    }
   ],
   "source": [
    "%%time\n",
    "nlp = en_core_web_lg.load()\n",
    "nlp.max_length = 30000000\n",
    "nlp.Defaults.stop_words |= {\n",
    "    \"hyperlink\",\n",
    "    \"HYPERLINK\",\n",
    "}"
   ]
  },
  {
   "cell_type": "markdown",
   "metadata": {
    "pycharm": {
     "name": "#%% md\n"
    }
   },
   "source": [
    "#### Load textacy corpus that stores the pre-processed BBC Monitoring data and its metadata"
   ]
  },
  {
   "cell_type": "code",
   "execution_count": 4,
   "metadata": {
    "collapsed": false,
    "jupyter": {
     "outputs_hidden": false
    },
    "pycharm": {
     "name": "#%%\n"
    }
   },
   "outputs": [
    {
     "name": "stdout",
     "output_type": "stream",
     "text": [
      "CPU times: user 14min 56s, sys: 15.4 s, total: 15min 12s\n",
      "Wall time: 15min 15s\n"
     ]
    }
   ],
   "source": [
    "%%time\n",
    "fname_corpus = \"BBC_2007_07_04_CORPUS_TEXTACY.bin.gz\"\n",
    "corpus = textacy.Corpus.load(\n",
    "    lang=nlp,\n",
    "    filepath=os.path.join(data_processed, fname_corpus),\n",
    "    store_user_data=True\n",
    ")"
   ]
  },
  {
   "cell_type": "code",
   "execution_count": null,
   "metadata": {},
   "outputs": [],
   "source": [
    "corpus"
   ]
  }
 ],
 "metadata": {
  "kernelspec": {
   "display_name": "Python 3",
   "language": "python",
   "name": "python3"
  },
  "language_info": {
   "codemirror_mode": {
    "name": "ipython",
    "version": 3
   },
   "file_extension": ".py",
   "mimetype": "text/x-python",
   "name": "python",
   "nbconvert_exporter": "python",
   "pygments_lexer": "ipython3",
   "version": "3.8.6"
  }
 },
 "nbformat": 4,
 "nbformat_minor": 4
}
